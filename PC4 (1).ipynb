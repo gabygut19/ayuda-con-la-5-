{
 "cells": [
  {
   "cell_type": "markdown",
   "metadata": {},
   "source": [
    "# Práctica Calificada 4\n",
    "\n",
    "Nota: para todos los casos utilice la librería sqlite.\n",
    "\n",
    "1. Cree una BD (base de Datos) utilizando *sqlite* desde .ipynb con nombre \"cursos\" y cree dos tablas una con nombre \"registro\" con tres campos: nombres, apellidos y dni. La segunda tabla con nombre \"cursos\" con tres campos: codigo_curso, area (área del curso), num_edic (número de la edición). (4 puntos)\n",
    "\n",
    "2. Ingrese a la tabla \"registro\" los siguientes registros: (1 punto)\n",
    "\n",
    "| nombre   | apellidos | dni        |\n",
    "|----------|-----------|------------|\n",
    "| Julián   | Baltazar  | 1569876963 |\n",
    "| Leonardo | Quispe    | 1689525689 |\n",
    "| Rosa     | Cabrejos  | 1587956325 |\n",
    "\n",
    "\n",
    "3. Ingrese a la tabla \"cursos\" los siguientes registros: (1 punto)\n",
    "\n",
    "| codigo_curso | area        | num_edic |\n",
    "|--------------|-------------|----------|\n",
    "| CU1596       | Informática | 1        |\n",
    "| CU1968       | Fotografía  | 1        |\n",
    "| CU1596       | Informática | 2        |\n",
    "| CUR186T      | Computación | 1        |\n",
    "\n",
    "4. Realice una consulta para mostrar de la tabla \"cursos\" el número de las ediciones del curso con código CU1596. (2 puntos)\n",
    "\n",
    "5. Cree una base de datos y una tabla donde almacene en un campo todos los números obtenidos del archivo: \"documento.txt\". (8 puntos)\n",
    "\n",
    "6. En la misma tabla agregue un campo que muestre con 1 aquellos números mayores a 1000 y 0 aquellos números menores o iguales a 1000. (4 puntos)"
   ]
  },
  {
   "cell_type": "code",
   "execution_count": null,
   "metadata": {},
   "outputs": [],
   "source": []
  }
 ],
 "metadata": {
  "kernelspec": {
   "display_name": "Python 3",
   "language": "python",
   "name": "python3"
  },
  "language_info": {
   "codemirror_mode": {
    "name": "ipython",
    "version": 3
   },
   "file_extension": ".py",
   "mimetype": "text/x-python",
   "name": "python",
   "nbconvert_exporter": "python",
   "pygments_lexer": "ipython3",
   "version": "3.7.3"
  }
 },
 "nbformat": 4,
 "nbformat_minor": 2
}
